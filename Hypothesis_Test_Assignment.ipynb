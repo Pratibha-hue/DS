{
  "nbformat": 4,
  "nbformat_minor": 0,
  "metadata": {
    "colab": {
      "provenance": []
    },
    "kernelspec": {
      "name": "python3",
      "display_name": "Python 3"
    },
    "language_info": {
      "name": "python"
    }
  },
  "cells": [
    {
      "cell_type": "code",
      "execution_count": null,
      "metadata": {
        "id": "fZz3aweUO4iF"
      },
      "outputs": [],
      "source": [
        "import pandas as pd  #importing required libararies\n",
        "import numpy as np\n",
        "from scipy import stats"
      ]
    },
    {
      "cell_type": "code",
      "execution_count": null,
      "metadata": {
        "colab": {
          "base_uri": "https://localhost:8080/"
        },
        "id": "mW_avoLLO4iR",
        "outputId": "fa0a0cde-14c9-4bea-ae92-5c5418577e01"
      },
      "outputs": [
        {
          "output_type": "stream",
          "name": "stdout",
          "text": [
            "T value is: -38.0\n"
          ]
        }
      ],
      "source": [
        "#ho: μ=4000  --null hypothesis\n",
        "#h1: μ>4000  --alternate hypothesis\n",
        "\n",
        "t_value=(3050-4000)/(125/np.sqrt(25))   #calculating t value using formula (sample_mean - theoretical_mean) / (standard_deviation / (sample_size ** 0.5))\n",
        "print(\"T value is:\",t_value)"
      ]
    },
    {
      "cell_type": "code",
      "execution_count": null,
      "metadata": {
        "colab": {
          "base_uri": "https://localhost:8080/"
        },
        "id": "XvZxkjOLO4iV",
        "outputId": "9b9397d8-cb72-4d89-ba07-795286d07b81"
      },
      "outputs": [
        {
          "output_type": "stream",
          "name": "stdout",
          "text": [
            "Critical value is: 1.7109\n"
          ]
        }
      ],
      "source": [
        "t_critical= stats.t.ppf((1-0.05),24)\n",
        "print(\"Critical value is:\",np.round(t_critical,4))"
      ]
    },
    {
      "cell_type": "code",
      "source": [
        "#If the calculated test statistic is less than -1.7109, it falls in the extreme left tail, suggesting the mean is likely lower than the hypothesized value, leading to rejection of the null hypothesis.\n",
        "#If the calculated test statistic is greater than 1.7109, it falls in the right tail, suggesting the mean is likely higher than the hypothesized value, potentially leading to rejection of the null hypothesis (depending on the alternative hypothesis direction).\n",
        "#If the calculated test statistic falls between -1.7109 and 1.7109, it lies within the critical region, and we fail to reject the null hypothesis due to insufficient evidence."
      ],
      "metadata": {
        "id": "dLG17RKCrsuR"
      },
      "execution_count": null,
      "outputs": []
    }
  ]
}